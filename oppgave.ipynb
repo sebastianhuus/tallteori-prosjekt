{
 "cells": [
  {
   "cell_type": "markdown",
   "source": [
    "\n",
    "\n",
    "#### Forord\n",
    "Hei du! Velkommen til denne litt rare måten å presentere et prosjekt på. Dette er slik vi presenterte kode i Progmod,\n",
    "så jeg tenkte det ville passe bra til å presentere både kode og matte for dette prosjektet.\n",
    "\n",
    "#### Innledning\n",
    "For mange år siden satt de første matematikerne \n",
    "og lekte med sine nyoppfunnede primtall; tall som kun er delelige på seg selv og 1.\n",
    "De fant nok mange slike tall blant de naturlige tallene, \n",
    "men etterhvert ble det nok vanskeligere ettersom intervallet \n",
    "mellom primtallene og størrelsen deres økte.\n",
    "\n",
    "#### Erastotenes såld\n",
    "En av de mer kjente algoritmene for å finne primtall kalles Erastotenes såld. \n",
    "I teorien fungerer denne ved å starte på et tall *n* som er større enn 1.\n",
    "Deretter fjerner man alle multiplum (alle tall som *n* er en faktor i). \n",
    "Det neste primtallet er altså det minste tallet som fortsatt er større enn n. <br><br>\n",
    "Eksempel:<br>\n",
    "Vi har en liste $l=[2,3,4,5,6,7,8,9,10,11,12,13,14,15,16,17,18,19,20]$  <br>\n",
    "Vi setter $n=2$ og fjerner alle multiplum <br>\n",
    "Nå sitter vi igjen med $l=[3,5,7,9,11,13,15,17,19]$ <br>\n",
    "Det neste primtallet er altså 3; $n=3$ <br>\n",
    "Vi fjerner multiplum: <br>\n",
    "$l=[5,7,11,13,17,19]$ <br>\n",
    "Det neste primtallet er nå 5. <br>\n",
    "\n",
    "Vi ser at algoritmen allerede har fjernet mange av tallene mellom,\n",
    "siden 5,7 og 11 er alle innbyrdes primske. Likevel tar den fryktelig lang tid å gjøre for hånd,\n",
    "så man kommer seg ikke gjennom så mange tall,\n",
    "med mindre man har en magisk maskin som kan gjøre beregninger flere tusen ganger per sekund (*host host*).\n",
    "Det er altså her datamaskinens evner kommer inn;\n",
    "vi kan finne flere tusen primtall med denne algoritmen bare på et par sekunder.\n",
    "\n",
    "Denne sjukt fancy nettside tingen kommer nå til å vise frem et par primtallsrelaterne algoritmer jeg har sett på.\n",
    "\n",
    "Under har jeg lagt inn en snippet med kode, som er tatt ut av hovedloopen til algoritmen jeg lagde.\n",
    "Min algoritme er sjukt treg siden jeg modellerte den 100% etter hvordan man gjør dette for hånd,\n",
    "pluss jeg har ikke programmert noe særlig på sånn 1 år. Jeg tenker ikke å gjøre denne oppgaven så kode-heavy siden det kan være ganske tungt å lese spaghettikode *og* matte,\n",
    "så koden til resten av algoritmen tar jeg ikke med.\n",
    "\n",
    "Funksjonsforklaring:\n",
    "lag_talliste() lager en liste med alle heltall fra og med et starttall til og med et sluttall.<br>\n",
    "fjern_multiplum() finner alle tall $n \\cdot m$, hvor m er et heltall.\n",
    "finn_neste_primtall() finner det neste tallet blant tallene som vi sitter igjen med"
   ],
   "metadata": {
    "collapsed": false
   }
  },
  {
   "cell_type": "code",
   "execution_count": null,
   "outputs": [],
   "source": [
    "# lim er det siste tallet i intervallet som vi undersøker.\n",
    "# I.e hvis lim er 1000, lager vi en liste med de første 1000 naturlige tallene, som vi bruker i algoritmen.\n",
    "lim = 1000\n",
    "\n",
    "# Hjelpeliste for å holde alle tallene i intervallet\n",
    "alletall = lag_talliste(2, lim)\n",
    "\n",
    "# Hjelpeliste for å holde alle primtallene våre. Vi starter på 2\n",
    "alleprimtall = [2]\n",
    "\n",
    "counter = 0  # Teller indekset av det nåværende primtallet i primtallslista\n",
    "\n",
    "# Løkka fortsetter å se etter flere primtall helt til det ikke er flere tall i lista.\n",
    "# try-except løkka unngår error som er vanlige å møte på.\n",
    "while True:\n",
    "    try:\n",
    "        alletall = fjern_multiplum(alletall, alleprimtall[counter], lim)\n",
    "        nyttPrimtall = finn_neste_primtall(alletall, alleprimtall[counter])\n",
    "    except (ValueError, TypeError):\n",
    "        break\n",
    "\n",
    "    if nyttPrimtall is None:\n",
    "        break\n",
    "\n",
    "    alleprimtall.append(nyttPrimtall)\n",
    "    counter += 1"
   ],
   "metadata": {
    "collapsed": false,
    "pycharm": {
     "name": "#%%\n"
    }
   }
  },
  {
   "cell_type": "markdown",
   "source": [
    "#### Størst felles faktor\n",
    "Så nå som jeg klarte å finne primtall, ville jeg se hva man kunne gjøre med dem.\n",
    "For mesteparten av kodesnippetene jeg lagde, så jeg på ulike temaer i tallteori-kapittelet som kunne være gøy å programmere.\n",
    "Naturligvis var det nå på tide å se på hvordan man finner\n",
    "størst primtallsfaktor i et tall, og deretter *mellom* to tall.\n",
    "<br>\n",
    "\n",
    "Her er en kombinert algoritme jeg modellerte for leselighet (også basert på teknikken man bruker for hånd).\n",
    "Underfunksjonene som brukes i algoritmen er vist lenger ned, siden de er bittelitt viktige for å skjønne for helhetens skyld.\n",
    "Bare sånn heads up, funksjonen finn_største_tall er veldig straight forward. Den returnerer det største tallet i en liste."
   ],
   "metadata": {
    "collapsed": false,
    "pycharm": {
     "name": "#%% md\n"
    }
   }
  },
  {
   "cell_type": "code",
   "execution_count": null,
   "outputs": [],
   "source": [
    "def finn_sff(tall1, tall2=None):\n",
    "    # Returnerer største faktor til ett tall som vi gir funksjonen. (altså her er det SF, ikke SFF)\n",
    "    if tall2 is None:\n",
    "        sff = finn_største_tall(finn_primtallsfaktorer(tall1)) # Gir oss den største av primtallsfaktorene\n",
    "        if sff == tall1:\n",
    "            return 1\n",
    "        else:\n",
    "            return sff\n",
    "\n",
    "    # Koden under brukes om vi vil undersøke SFF mellom to tall.\n",
    "    # Vi trenger bare faktorene til det ene tallet. Har ikke noe å si om a er større enn b. SFF is eternal.\n",
    "    faktorer = finn_primtallsfaktorer(tall1)\n",
    "\n",
    "    fellesfaktorer = []\n",
    "    for faktor in faktorer:\n",
    "        if tall2 % faktor == 0:\n",
    "            fellesfaktorer.append(faktor)\n",
    "\n",
    "    # SFF er et produkt av fellesfaktorene. Dette regnes ut under.\n",
    "    sff = 1\n",
    "    for fellesfaktor in fellesfaktorer:\n",
    "        sff *= fellesfaktor\n",
    "\n",
    "    return sff"
   ],
   "metadata": {
    "collapsed": false,
    "pycharm": {
     "name": "#%%\n"
    }
   }
  },
  {
   "cell_type": "markdown",
   "source": [
    "Under er finn_primtallsfaktorer() funksjonen, som finner primtallsfaktorene til et tall."
   ],
   "metadata": {
    "collapsed": false,
    "pycharm": {
     "name": "#%% md\n"
    }
   }
  },
  {
   "cell_type": "code",
   "execution_count": null,
   "outputs": [],
   "source": [
    "# Finner alle primtallsfaktorene til et tall.\n",
    "def finn_primtallsfaktorer(tall):\n",
    "    faktorer = []\n",
    "\n",
    "    for primtall in alleprimtall:\n",
    "        if tall % primtall == 0:\n",
    "            faktorer.append(primtall)\n",
    "\n",
    "    return faktorer"
   ],
   "metadata": {
    "collapsed": false,
    "pycharm": {
     "name": "#%%\n"
    }
   }
  },
  {
   "cell_type": "markdown",
   "source": [
    "#### Euklids algoritme\n",
    "\n",
    "Under er en ekstremt forenklet versjon av Euklids algoritme\n",
    "for å finne SFF (\"inspirert\" av kodesnippets på nettet og Wikipedia).\n",
    "Se så sjukt kort den er i forhold til monsteret jeg lagde over :( <br><br>"
   ],
   "metadata": {
    "collapsed": false
   }
  },
  {
   "cell_type": "code",
   "execution_count": null,
   "outputs": [],
   "source": [
    "# Finner sff mellom to tall\n",
    "def euklid(a,b):\n",
    "    while b != 0:\n",
    "        t = b\n",
    "        b = a % b\n",
    "        a = t\n",
    "    return a"
   ],
   "metadata": {
    "collapsed": false,
    "pycharm": {
     "name": "#%%\n"
    }
   }
  },
  {
   "cell_type": "markdown",
   "source": [
    "Så hvordan funker egentlig algoritmen?\n",
    "Vel, nå skal jeg \"gjøre dette for hånd\" med $a=35$ og $b=42$:\n",
    "\n",
    "$a=35 \\textrm{, } b=42$ <br>\n",
    "$t = b = 42$ <br>\n",
    "$b = a \\textrm{ % } b = 35 \\textrm{ mod } 42 = 35$ <br>\n",
    "$a = t = 42$ <br>\n",
    " <br>\n",
    "$t = b = 35$ <br>\n",
    "$b = a \\textrm{ % } b = 42 \\textrm{ mod } 35 = 7$ <br>\n",
    "$a = t = 35$ <br>\n",
    " <br>\n",
    "$t = b = 7$ <br>\n",
    "$b = a \\textrm{ % } b = 35 \\textrm{ mod } 7 = 0$ <br>\n",
    "$a = t = 7$ <br>\n",
    " <br>\n",
    "$b = 0 \\Rightarrow$ Algoritmen er ferdig: $SFF = a = 7$"
   ],
   "metadata": {
    "collapsed": false,
    "pycharm": {
     "name": "#%% md\n"
    }
   }
  },
  {
   "cell_type": "markdown",
   "source": [
    "#### Tidsforbruk\n",
    "\n",
    "I Python tar denne algoritmen sånn 1.7e-06 sekunder for mindre tall (jeg testa den litt).\n",
    "Algoritmen som jeg skrev selv tar omtrent 5.68e-05 sekunder for de samme tallene jeg testet. Ganske stor forskjell!\n",
    "Regnet ut at min algoritme er sånn 33 ganger treigere, men det har ikke såååå mye å si for akkurat dette prosjektet,\n",
    "siden tallene er skikkelig små uansett.\n",
    "\n",
    "Uansett, nå oppstår det nye spørsmålet. Vi kan finne SFF, men hva kan vi nå bruke det til?🙃"
   ],
   "metadata": {
    "collapsed": false,
    "pycharm": {
     "name": "#%% md\n"
    }
   }
  },
  {
   "cell_type": "markdown",
   "source": [
    "### RSA-kryptering (wooo)\n",
    "\n",
    "Jeg følte det eneste stedet jeg kunne bruke disse nye superkreftene våre, var kryptering, siden det er forsåvidt\n",
    "en datamaskin-greie. Det var forsåvidt ikke hovedfokuset da jeg begynte på oppgaven,\n",
    "så jeg skjønner ikke så mye av hvorfor man gjør ting, men likevel skal jeg prøve å forklare det litt step by step\n",
    "før vi nå titter på dette i kode-form.\n",
    "\n",
    "RSA-kryptering går ut på at man tar et tall, gjør det om til et annet tall gjennom kryptering og deretter dekrypterer\n",
    "det på den andre enden. Denne prosessen er delt inn i nøkkeltallsgenerasjon, kryptering og dekryptering. <br>"
   ],
   "metadata": {
    "collapsed": false,
    "pycharm": {
     "name": "#%% md\n"
    }
   }
  },
  {
   "cell_type": "markdown",
   "source": [
    "#### Nøkkelgenerering\n",
    "Først velger man to innbyrdes primske tall p og q, gjerne med over 100 sifre. \n",
    "For dette prosjektet velger jeg små tall for å spare mine to hjerneceller.<br>\n",
    " \n",
    "$n=p \\cdot q$ <br>\n",
    "$\\hspace{1cm} n$ kommer til å være modulusen vi bruker for å dekryptere meldingen vår når den tid kommer.<br><br>\n",
    "$\\phi (n) = (p-1)(q-1)$ <br><br>\n",
    "$\\hspace{1cm} \\phi (n)$ er kjent som totienten til n. \n",
    "Funksjonen over gjør $\\phi$ til mengden positive primtall mindre enn $n$. <br><br>\n",
    "Nå velges et annet innbyrdes primsk tall $e$, som blir brukt som den offentlige nøkkeleksponenten. <br>\n",
    "$d \\cdot e \\equiv 1 \\textrm{ mod } \\phi (n)$ <br>\n",
    "\n",
    "\n",
    "\n",
    "\n",
    "\n",
    "\n",
    "\n",
    "\n",
    "#### Kryptering\n",
    "Selve krypteringen er kanskje den letteste delen av hele prosessen. \n",
    "Først velger vi en melding M som skal krypteres, og så gjør vi denne om til et tall.\n",
    "\n",
    "#### Dekryptering"
   ],
   "metadata": {
    "collapsed": false,
    "pycharm": {
     "name": "#%% md\n"
    }
   }
  }
 ],
 "metadata": {
  "kernelspec": {
   "display_name": "Python 3",
   "language": "python",
   "name": "python3"
  },
  "language_info": {
   "codemirror_mode": {
    "name": "ipython",
    "version": 2
   },
   "file_extension": ".py",
   "mimetype": "text/x-python",
   "name": "python",
   "nbconvert_exporter": "python",
   "pygments_lexer": "ipython2",
   "version": "2.7.6"
  },
  "pycharm": {
   "stem_cell": {
    "cell_type": "raw",
    "source": [],
    "metadata": {
     "collapsed": false
    }
   }
  }
 },
 "nbformat": 4,
 "nbformat_minor": 0
}