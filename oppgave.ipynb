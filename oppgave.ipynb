{
 "cells": [
  {
   "cell_type": "markdown",
   "source": [
    "#### Forord\n",
    "Yoooo tobbernn, velkommen til min litt rare måte å presentere et prosjekt på. Dette er slik vi presenterte kode i Progmod,\n",
    "så jeg tenkte det ville passe bra til å presentere både kode og matte for dette prosjektet.\n",
    "\n",
    "#### Innhold\n",
    "- Innledning\n",
    "- Algoritmer for å finne/teste primtall\n",
    "- Algoritmer for å finne SFF\n",
    "    - Tidsforbruk\n",
    "\n",
    "Prosjektet mitt er forsåvidt fordelt over to temaer, som jeg tenkte hang sammen.\n",
    "Først finner vi primtallene, så ser vi på hva vi kan bruke dem til (altså finne SFF).\n",
    "Jeg tenkte å ta det lenger ved å se på hvordan algoritmene kan brukes til RSA-kryptering,\n",
    "men jeg følte det ble litt for mye. Står litt mer om det på slutten.\n",
    "\n",
    "#### Innledning\n",
    "For mange år siden satt de første matematikerne \n",
    "og lekte med sine nyoppfunnede primtall; tall som kun er delelige på seg selv og 1.\n",
    "De fant nok mange slike tall blant de naturlige tallene, \n",
    "men etterhvert ble det nok vanskeligere siden tallene begynte å bli så så store.\n",
    "\n",
    "Man har i etterkant funnet mange måter å finne primtall på.\n",
    "Den mest grunnleggende er <i>prøv-og-feil</i> metoden,\n",
    "hvor man deler et tall $n$ på alle andre tall\n",
    "helt til det ikke lenger er delelig på noe annet enn seg selv og 1.\n",
    "Fryktelig tungvindt, spesielt uten hjelpemidler, men det funker.\n",
    "\n",
    "#### Erastotenes såld\n",
    "En litt mer sofistikert algoritme for å finne dem kalles Erastotenes såld.\n",
    "I teorien fungerer denne ved å starte på et tall $n$ som er større enn 1.\n",
    "Deretter fjerner man alle multiplum (alle tall som $n$ er en faktor i).\n",
    "Det neste primtallet er altså det minste tallet som fortsatt er større enn n.\n",
    "<br><br>\n",
    "Eksempel:<br>\n",
    "Vi har en liste $l=[2,3,4,5,6,7,8,9,10,11,12,13,14,15,16,17,18,19,20]$  <br>\n",
    "Vi setter $n=2$ og fjerner alle multiplum <br>\n",
    "Nå sitter vi igjen med $l=[3,5,7,9,11,13,15,17,19]$ <br>\n",
    "Det neste primtallet er altså 3; $n=3$ <br>\n",
    "Vi fjerner multiplum: <br>\n",
    "$l=[5,7,11,13,17,19]$ <br>\n",
    "Det neste primtallet er nå 5. <br>\n",
    "\n",
    "Vi ser at algoritmen allerede har fjernet mange av tallene mellom,\n",
    "siden 5,7 og 11 er alle innbyrdes primske. Likevel tar den fryktelig lang tid å gjøre for hånd,\n",
    "så man kommer seg ikke gjennom så mange tall,\n",
    "med mindre man har en magisk maskin som kan gjøre beregninger flere tusen ganger per sekund (*host host*).\n",
    "Det er altså her datamaskinens evner kommer inn;\n",
    "vi kan finne flere tusen primtall med denne algoritmen bare på et par sekunder.\n",
    "\n",
    "Denne sjukt fancy nettside-tingen kommer nå til å vise frem et par primtallsrelaterne algoritmer jeg har funnet eller laget selv.\n",
    "Jeg har prøvd å fokusere på leselighet siden kode kan være ganske tungt å lese."
   ],
   "metadata": {
    "collapsed": false
   }
  },
  {
   "cell_type": "markdown",
   "source": [
    "Under har jeg lagt inn en snippet med kode, som er tatt ut av hovedloopen til algoritmen jeg lagde.\n",
    "Min algoritme er sjukt treg siden jeg modellerte den 100% etter hvordan man gjør dette for hånd,\n",
    "pluss jeg har ikke programmert noe særlig på sånn 1 år.\n",
    "Jeg tenker ikke å gjøre denne oppgaven så kode-heavy siden det kan være ganske tungt å lese spaghettikode *og* matte,\n",
    "så koden til resten av algoritmen tar jeg ikke med.\n",
    "\n",
    "Funksjonsforklaring:\n",
    "lag_talliste() lager en liste med alle heltall fra og med et starttall til og med et sluttall.<br>\n",
    "fjern_multiplum() finner alle tall $n \\cdot m$, hvor m er et heltall.\n",
    "finn_neste_primtall() finner det neste tallet blant tallene som vi sitter igjen med"
   ],
   "metadata": {
    "collapsed": false,
    "pycharm": {
     "name": "#%% md\n"
    }
   }
  },
  {
   "cell_type": "code",
   "execution_count": null,
   "outputs": [],
   "source": [
    "# lim er det siste tallet i intervallet som vi undersøker.\n",
    "# I.e hvis lim er 1000, lager vi en liste med de første 1000 naturlige tallene, som vi bruker i algoritmen.\n",
    "lim = 1000\n",
    "\n",
    "# Hjelpeliste for å holde alle tallene i intervallet\n",
    "alletall = lag_talliste(2, lim)\n",
    "\n",
    "# Hjelpeliste for å holde alle primtallene våre. Vi starter på 2\n",
    "alleprimtall = [2]\n",
    "\n",
    "counter = 0  # Teller indekset av det nåværende primtallet som vi har funnet.\n",
    "\n",
    "# Løkka fortsetter å se etter flere primtall helt til det ikke er flere tall i lista.\n",
    "# try-except løkka unngår error som er vanlige å møte på.\n",
    "while True:\n",
    "    try:\n",
    "        alletall = fjern_multiplum(alletall, alleprimtall[counter], lim)\n",
    "        nyttPrimtall = finn_neste_primtall(alletall, alleprimtall[counter])\n",
    "    # Linja under bare stopper Python fra å gi oss errormeldinger.\n",
    "    except (ValueError, TypeError):\n",
    "        break\n",
    "\n",
    "    # Avslutter programmet om det ikke er flere primtall i lista.\n",
    "    if nyttPrimtall is None:\n",
    "        break\n",
    "\n",
    "    alleprimtall.append(nyttPrimtall)\n",
    "    counter += 1"
   ],
   "metadata": {
    "collapsed": false,
    "pycharm": {
     "name": "#%%\n"
    }
   }
  },
  {
   "cell_type": "markdown",
   "source": [
    "#### Wilsons teorem\n",
    "Men det er jo ikke noe gøy å bare se på den ene algoritmen som vi på en måte har sett på fra før av!\n",
    "Wilsons teorem er en måte å sjekke om et tall $n$er innbyrdes primsk,\n",
    "hvor man sjekker denne kongruensen: <br>\n",
    "$(n-1)! \\equiv -1 \\textrm{ mod n}$\n",
    "\n",
    "Teoremet sier at $n$ vil være et primtall dersom uttrykket $(n-1)!$ gir et tall som er akkurat $1$ mindre enn\n",
    "et multiplum av $n$. <br><br>\n",
    "Eksempel: <br>\n",
    "$n=7$ gir $(n-1)! = (6 \\cdot 5 \\cdot 4 \\cdot 3 \\cdot 2) = 720$ <br>\n",
    "Hvis vi legger til 1, skal vi få et multiplum av 7: <br>\n",
    "$720+1=721$ <br>\n",
    "$721 \\textrm{ mod } 7 = 0 \\Rightarrow$ 7 er et primtall<br>\n",
    "\n",
    "Eksempel #2: <br>\n",
    "$n=4$ gir $(n-1)! = 6$ <br>\n",
    "Hvis 4 går opp i $3! + 1$, ville det vært et primtall:<br>\n",
    "$6+1=7$ <br>\n",
    "$7 \\textrm{ mod } 4 = 1 \\Rightarrow$ 4 er ikke et primtall <br>\n",
    "\n",
    "En annen form for dette teoremet sier at et tall $n$\n",
    "er et primtall om $(n-1)!^2 \\textrm{ mod n} = 1$.\n",
    "<br><br>\n",
    "Eksempel: <br>\n",
    "$n=7$ gir $(n-1)! = 720$ <br>\n",
    "$720^2 \\textrm{ mod 7} = ( (720 \\textrm{ mod 7}) \\cdot (720 \\textrm{ mod 7})) \\textrm{ mod 7} = 1 \\cdot 1 \\textrm{ mod 7} = 1$ <br>\n",
    "Altså blir resten her lik 1 og dermed er dette tallet et primtall. <br>\n",
    "\n",
    "Wilsons teorem er forsåvidt bare en måte å teste primtall for moro skyld; begge måtene jeg har vist nå er veldig tungvindte,\n",
    "til og med for en datamaskin."
   ],
   "metadata": {
    "collapsed": false,
    "pycharm": {
     "name": "#%% md\n"
    }
   }
  },
  {
   "cell_type": "markdown",
   "source": [
    "#### Størst felles faktor\n",
    "Så nå som vi kan <i>finne</i> primtall, er spørsmålet hva vi kan gjøre med dem.\n",
    "For mesteparten av kodesnippetene jeg lagde,\n",
    "så jeg på ulike temaer i tallteori-kapittelet som kunne være gøy å programmere.\n",
    "Naturligvis var det nå på tide å se på hvordan man finner\n",
    "størst primtallsfaktor i et tall, og deretter <i>mellom</i> to tall.\n",
    "<br>\n",
    "\n",
    "Én enkel måte å finne primtallsfaktorene i et tall på, er å dele det på primtall vi allerede vet, og lagre dette i en liste.\n",
    "Det er det jeg gjør i algoritmen under.\n",
    "\n",
    "Her er en kombinert algoritme jeg modellerte for leselighet (også basert på teknikken man bruker for hånd).\n",
    "Underfunksjonene som brukes i algoritmen er vist lenger ned, siden de er bittelitt viktige for å skjønne for helhetens skyld.\n",
    "Bare sånn heads up, funksjonen finn_største_tall er veldig straight forward. Den returnerer det største tallet i en liste."
   ],
   "metadata": {
    "collapsed": false
   }
  },
  {
   "cell_type": "code",
   "execution_count": null,
   "outputs": [],
   "source": [
    "def finn_sff(tall1, tall2=None):\n",
    "    # Returnerer største primtallsfaktor til ett tall som vi gir funksjonen.\n",
    "    # (Altså her er det bare SF, ikke SFF)\n",
    "    # Eks: hvis vi spør finn_sff(vilkårlig_tall), vet den at vi bare vil ha faktorene i dette ene tallet.\n",
    "    if tall2 is None:\n",
    "        sff = finn_største_tall(finn_primtallsfaktorer(tall1)) # Gir oss den største av primtallsfaktorene\n",
    "        if sff == tall1:\n",
    "            return 1\n",
    "        else:\n",
    "            return sff\n",
    "\n",
    "    # Koden under brukes om vi vil undersøke SFF mellom to tall.\n",
    "    # Vi trenger bare faktorene til det ene tallet. Har ikke noe å si om a er større enn b. SFF is eternal.\n",
    "    faktorer = finn_primtallsfaktorer(tall1)\n",
    "    fellesfaktorer = []\n",
    "\n",
    "    # Sjekker om det andre tallet har noen av de samme faktorene somm tall1.\n",
    "    for faktor in faktorer:\n",
    "        if tall2 % faktor == 0:\n",
    "            fellesfaktorer.append(faktor)\n",
    "\n",
    "    # SFF er et produkt av fellesfaktorene. Dette regnes ut under.\n",
    "    sff = 1\n",
    "    for fellesfaktor in fellesfaktorer:\n",
    "        sff *= fellesfaktor\n",
    "\n",
    "    return sff"
   ],
   "metadata": {
    "collapsed": false,
    "pycharm": {
     "name": "#%%\n"
    }
   }
  },
  {
   "cell_type": "markdown",
   "source": [
    "Under er finn_primtallsfaktorer() funksjonen, som finner primtallsfaktorene til et tall.\n",
    "Meget komplisert, spør du meg🙂"
   ],
   "metadata": {
    "collapsed": false,
    "pycharm": {
     "name": "#%% md\n"
    }
   }
  },
  {
   "cell_type": "code",
   "execution_count": null,
   "outputs": [],
   "source": [
    "# Finner alle primtallsfaktorene til et tall.\n",
    "def finn_primtallsfaktorer(tall):\n",
    "    # Midlertidig liste for å holde faktorene våre.\n",
    "    faktorer = []\n",
    "\n",
    "    # Deler på alle primtallene vi vet om, opptil tallet vi undersøker.\n",
    "    # For å spare tid, stopper vi når vi har kommet til et så så stort tall,\n",
    "    # fordi det er ikke vits i å sjekke om 31247127895412 er en faktor i 12\n",
    "    for primtall in alleprimtall:\n",
    "        if tall % primtall == 0:\n",
    "            faktorer.append(primtall)\n",
    "        if primtall > tall:\n",
    "            break\n",
    "\n",
    "    return faktorer"
   ],
   "metadata": {
    "collapsed": false,
    "pycharm": {
     "name": "#%%\n"
    }
   }
  },
  {
   "cell_type": "markdown",
   "source": [
    "#### Euklids algoritme\n",
    "\n",
    "Under er en ekstremt forenklet versjon av Euklids algoritme\n",
    "for å finne SFF (\"inspirert\" av kodesnippets fra nettet og Wikipedia).\n",
    "Se så sjukt kort den er i forhold til monsteret jeg lagde over :("
   ],
   "metadata": {
    "collapsed": false
   }
  },
  {
   "cell_type": "code",
   "execution_count": null,
   "outputs": [],
   "source": [
    "# Finner sff mellom to tall\n",
    "def euklid(a,b):\n",
    "    while b != 0:\n",
    "        t = b\n",
    "        b = a % b\n",
    "        a = t\n",
    "    return a"
   ],
   "metadata": {
    "collapsed": false,
    "pycharm": {
     "name": "#%%\n"
    }
   }
  },
  {
   "cell_type": "markdown",
   "source": [
    "Så hvordan funker egentlig algoritmen?\n",
    "Vel, nå skal jeg \"gjøre dette for hånd\" med $a=35$ og $b=42$:\n",
    "\n",
    "$a=35 \\textrm{, } b=42$ <br>\n",
    "$t = b = 42$ <br>\n",
    "$b = a \\textrm{ % } b = 35 \\textrm{ mod } 42 = 35$ <br>\n",
    "$a = t = 42$ <br>\n",
    " <br>\n",
    "$t = b = 35$ <br>\n",
    "$b = a \\textrm{ % } b = 42 \\textrm{ mod } 35 = 7$ <br>\n",
    "$a = t = 35$ <br>\n",
    " <br>\n",
    "$t = b = 7$ <br>\n",
    "$b = a \\textrm{ % } b = 35 \\textrm{ mod } 7 = 0$ <br>\n",
    "$a = t = 7$ <br>\n",
    " <br>\n",
    "$b = 0 \\Rightarrow$ Algoritmen er ferdig: $SFF = a = 7$\n",
    "<br>\n",
    "<br>\n",
    "Vi ser altså at hvert steg likner veldig på slik vi har brukt algoritmen i timene."
   ],
   "metadata": {
    "collapsed": false,
    "pycharm": {
     "name": "#%% md\n"
    }
   }
  },
  {
   "cell_type": "markdown",
   "source": [
    "#### Tidsforbruk\n",
    "\n",
    "Siden vi snakker om algoritmer og forksjellene deres,\n",
    "er det ganske naturlig å se på tidsforbruket deres.\n",
    "<br><br>\n",
    "I Python tar denne algoritmen sånn 1.7e-06 sekunder for mindre tall (jeg testa den litt).\n",
    "Algoritmen som jeg skrev selv tar omtrent 5.68e-05 sekunder for de samme tallene jeg testet. Ganske stor forskjell!\n",
    "Regnet ut at min algoritme er sånn 33 ganger treigere, men det har ikke såååå mye å si for akkurat dette prosjektet,\n",
    "siden tallene er skikkelig små.\n",
    "\n",
    "Så dette var en titt på hvordan primtallsalgoritmene funker under the hood.<br>\n",
    "Nå tenkte jeg egentlig å titte litt på RSA-kryptering, men det tok alt for lang tid å kode (les: koden min ville ikke samarbeide🙄).\n",
    "Kanskje greit å droppe det uansett; andre i klassen har jo egne oppgaver bare om RSA,\n",
    "så det blir vel litt vanskelig å presentere det på en kort og konsis måte.\n",
    "<br>\n",
    "Under https://github.com/sebastianhuus/tallteori-prosjekt ligger alle scriptene jeg lagde,\n",
    "men alt som har med RSA å gjøre funker ikke veldig bra. De funker for noen eksempler jeg fulgte,\n",
    "men ikke for generelle tilfeller. "
   ],
   "metadata": {
    "collapsed": false,
    "pycharm": {
     "name": "#%% md\n"
    }
   }
  }
 ],
 "metadata": {
  "kernelspec": {
   "display_name": "Python 3",
   "language": "python",
   "name": "python3"
  },
  "language_info": {
   "codemirror_mode": {
    "name": "ipython",
    "version": 2
   },
   "file_extension": ".py",
   "mimetype": "text/x-python",
   "name": "python",
   "nbconvert_exporter": "python",
   "pygments_lexer": "ipython2",
   "version": "2.7.6"
  }
 },
 "nbformat": 4,
 "nbformat_minor": 0
}